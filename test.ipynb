{
 "cells": [
  {
   "cell_type": "code",
   "execution_count": null,
   "id": "e84bac8b",
   "metadata": {},
   "outputs": [],
   "source": [
    "# nana kvatia"
   ]
  },
  {
   "cell_type": "code",
   "execution_count": null,
   "id": "f68a1acf",
   "metadata": {},
   "outputs": [],
   "source": []
  }
 ],
 "metadata": {
  "kernelspec": {
   "display_name": "base",
   "language": "python",
   "name": "python3"
  },
  "language_info": {
   "name": "python",
   "version": "3.13.5"
  }
 },
 "nbformat": 4,
 "nbformat_minor": 5
}
